{
  "nbformat": 4,
  "nbformat_minor": 0,
  "metadata": {
    "colab": {
      "name": "Option Pricing.ipynb",
      "provenance": []
    },
    "kernelspec": {
      "name": "python3",
      "display_name": "Python 3"
    },
    "language_info": {
      "name": "python"
    }
  },
  "cells": [
    {
      "cell_type": "code",
      "metadata": {
        "id": "3BUvgcB64a1u"
      },
      "source": [
        "# Import libraries required for the code: \n",
        "import numpy as np \n",
        "import pandas as pd\n",
        "import matplotlib.pyplot as plt\n",
        "import math"
      ],
      "execution_count": 1,
      "outputs": []
    },
    {
      "cell_type": "markdown",
      "metadata": {
        "id": "TSHv4ucV4fTI"
      },
      "source": [
        "This python notebook aims at pricing options (call and put) using binomial tree applying Cox, Ross, and Rubinstein model. The function can price either American or European style option."
      ]
    },
    {
      "cell_type": "markdown",
      "metadata": {
        "id": "XjZ3oa4a5j5x"
      },
      "source": [
        "# Classical binomial Cox, Ross and Rubinstein "
      ]
    },
    {
      "cell_type": "code",
      "metadata": {
        "id": "cApg-oh17BsN"
      },
      "source": [
        "def binomial_option_CRR(S0, X, T, n, r, sigma, optionType, earlyExercise):\n",
        "  \"\"\"\n",
        "  # INPUTS: \n",
        "  S0 - initial stock px (must be a positive numeric value)\n",
        "  X - strike price of an option (must be a positive numeric value)\n",
        "  T - time to expiration in years (must be a positive number)\n",
        "  n - number of periods in the binomial model (must be a positive integer)\n",
        "  r - risk free interest rate for discounitng ((must be a value greater than 0 and less than 1)\n",
        "  sigma - vol parameter (must be greater than 0 and less than 1)\n",
        "  optionType - specify whether it is a CALL or a PUT option (must be a string 'CALL' or 'PUT')\n",
        "  earlyExercise - specify whether it is European style option or an American style option (Takes value two values. 1 - American style option and 0 - European style option)\n",
        "  \n",
        "  #OUTPUT:\n",
        "  Binomial tree of an underlying asset\n",
        "  Binomial tree of an option\n",
        "  matrix of deltas\n",
        "  matrix of gammas\n",
        "  \"\"\"\n",
        "  \n",
        "\n",
        "  # Calculate CRR model parameters: \n",
        "  dt = T/n\n",
        "  a = math.exp(r*dt)\n",
        "  u = math.exp(sigma*math.sqrt(dt))\n",
        "  d = 1/u\n",
        "  p = (a - d)/(u - d)\n",
        "\n",
        "  # Create a matrix to hold the binomial tree: \n",
        "  underlying_price_holder = np.zeros([n+1, n+1])\n",
        "  # populate binomial tree with underlying asset prices:\n",
        "  for idx in range(n+1):\n",
        "    for jdx in range(n+1):\n",
        "      underlying_price_holder[jdx,idx] = S0*(d**jdx)*(u**(idx-jdx))\n",
        "  \n",
        "  # Create a matrix to hold the option values\n",
        "  option_value_tree = np.zeros([n+1, n+1])\n",
        "  # Populate the tree with backward induction: \n",
        "  if optionType == 'CALL':\n",
        "    option_value_tree[:,n] = np.maximum((underlying_price_holder[:,n]-X), np.zeros(n+1))\n",
        "  elif optionType=='PUT': \n",
        "    option_value_tree[:,n] = np.maximum((X - underlying_price_holder[:,n]), np.zeros(n+1))\n",
        "\n",
        "  for idx in range(n,0,-1):\n",
        "    option_value_tree[0:idx, idx-1] = np.exp(-r*dt)*(p*option_value_tree[0:idx, idx] + (1-p)*option_value_tree[1:idx+1, idx])\n",
        "    if earlyExercise==1:\n",
        "      if optionType =='CALL':\n",
        "        option_value_tree[0:idx, idx-1] = np.maximum(underlying_price_holder[0:idx, idx-1]-X, option_value_tree[0:idx, idx-1])\n",
        "      elif optionType =='PUT':\n",
        "        option_value_tree[0:idx, idx-1] = np.maximum(X - underlying_price_holder[0:idx, idx-1], option_value_tree[0:idx, idx-1])\n",
        "\n",
        "  # Calculate the sensitivities: \n",
        "  dS = np.diff(underlying_price_holder)\n",
        "  delta_tree = np.diff(option_value_tree)/dS\n",
        "  gamma_tree=np.diff(delta_tree)/dS[:,1:]\n",
        "\n",
        "\n",
        "  return underlying_price_holder, option_value_tree, delta_tree, gamma_tree\n",
        " "
      ],
      "execution_count": 309,
      "outputs": []
    },
    {
      "cell_type": "code",
      "metadata": {
        "id": "AequtPLZOvTM"
      },
      "source": [
        "[stock, option, delta,gamma ]=binomial_option_CRR(100, 100, 1, 3, 0.01, 0.2, 'CALL', 0)"
      ],
      "execution_count": 311,
      "outputs": []
    },
    {
      "cell_type": "code",
      "metadata": {
        "id": "SzYyAvJ2AwjQ"
      },
      "source": [
        ""
      ],
      "execution_count": null,
      "outputs": []
    }
  ]
}