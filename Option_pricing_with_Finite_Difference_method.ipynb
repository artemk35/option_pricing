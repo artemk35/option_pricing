{
  "nbformat": 4,
  "nbformat_minor": 0,
  "metadata": {
    "colab": {
      "name": "Option pricing with Finite Difference method.ipynb",
      "provenance": []
    },
    "kernelspec": {
      "name": "python3",
      "display_name": "Python 3"
    },
    "language_info": {
      "name": "python"
    }
  },
  "cells": [
    {
      "cell_type": "code",
      "metadata": {
        "id": "O0pCzCbbfXH3"
      },
      "source": [
        "# Import necessary packages: \n",
        "import numpy as np \n",
        "import pandas as pd\n",
        "import matplotlib.pyplot as plt\n",
        "import scipy.linalg as linalg"
      ],
      "execution_count": 17,
      "outputs": []
    },
    {
      "cell_type": "markdown",
      "metadata": {
        "id": "YjVy-21Uw6aw"
      },
      "source": [
        "## Finite Difference option pricing: "
      ]
    },
    {
      "cell_type": "code",
      "metadata": {
        "id": "36e0az6sfsO_"
      },
      "source": [
        "# Define the Finite Difference Class: \n",
        "\n",
        "class FiniteDifferences: \n",
        "  \n",
        "  # Initiate the object:\n",
        "  def __init__(self, S0, K, r, T, sigma, Smax, M, N, callable = True):\n",
        "    # Define parameters for the object: \n",
        "    self.S0 = S0\n",
        "    self.K = K\n",
        "    self.r = r\n",
        "    self.T = T\n",
        "    self.sigma = sigma\n",
        "    self.Smax = Smax\n",
        "    self.M = int(M)\n",
        "    self.N = int(N)\n",
        "    self.callable = callable\n",
        "\n",
        "    # Caclulate the parameters: \n",
        "    self.dS = Smax/float(self.M) \n",
        "    self.dt = T/float(self.N)\n",
        "    self.i_values = np.arange(self.M)\n",
        "    self.j_values = np.arange(self.N)\n",
        "    self.grid = np.zeros(shape=(self.M+1, self.N + 1))\n",
        "    self.boundary_conds = np.linspace(0, Smax, self.M+1)\n",
        "\n",
        "  def _setup_boundary_conditions_(self):\n",
        "    pass\n",
        "\n",
        "\n",
        "  def _setup_coefficients_(self):\n",
        "    pass\n",
        "\n",
        "  def _traverse_grid_(self):\n",
        "    pass\n",
        "\n",
        "  def _interpolate_(self):\n",
        "\n",
        "    return np.interp(self.S0, self.boundary_conds, self.grid[:,0])  \n",
        "\n",
        "  def price(self):\n",
        "    self._setup_boundary_conditions_()\n",
        "    self._setup_coefficients_()\n",
        "    self._traverse_grid_()\n",
        "    return self._interpolate_()\n",
        "\n",
        "\n",
        "\n",
        "\n",
        "\n"
      ],
      "execution_count": 2,
      "outputs": []
    },
    {
      "cell_type": "code",
      "metadata": {
        "id": "hFrya-OGlqAW"
      },
      "source": [
        "# Define the Finite Difference applying the explicit method: \n",
        "\n",
        "# The new class inherits from the FiniteDifferences class: \n",
        "\n",
        "class FDExplicit_EU(FiniteDifferences):\n",
        "  \n",
        "  def _setup_boundary_conditions_(self):\n",
        "    if self.callable:# calculations if the option is a call\n",
        "      self.grid[:, -1] = np.maximum(self.boundary_conds - self.K, 0)\n",
        "      self.grid[-1, :-1] = (self.Smax - self.K)*np.exp(-self.r*self.dt*(self.N - self.j_values))\n",
        "\n",
        "    else: \n",
        "      # calculation if the option is a put:\n",
        "      self.grid[:, -1] = np.maximum(self.K - self.boundary_conds, 0)\n",
        "      self.grid[0, :-1] = (self.K - self.Smax)*np.exp(-self.r*self.dt*(self.N - self.j_values))\n",
        "\n",
        "  # Define a method for FDExplicit Class to calculate coefficients for the FD option pricing, the method is inherited from the FiniteDifferences Class \n",
        "  # but is defined for each FD approach separately: \n",
        "  def _setup_coefficients_(self):\n",
        "    # calculate coefficient \"a\" for the explicit algorithm:\n",
        "    self.a = 0.5*self.dt*((self.sigma**2) * (self.i_values**2) - self.r*self.i_values)\n",
        "    # calculate coefficient \"b\" for the explicit algorithm:\n",
        "    self.b = 1 - self.dt*((self.sigma**2)*(self.i_values**2) + self.r)\n",
        "    # calculate coefficient \"c\" for the explicit algorithm:\n",
        "    self.c = 0.5*self.dt*((self.sigma**2)*(self.i_values**2) + self.r*self.i_values)\n",
        "\n",
        "  def _traverse_grid_(self):\n",
        "    for j in reversed(self.j_values):\n",
        "      for i in range(self.M)[2:]:\n",
        "        self.grid[i,j] = self.a[i]*self.grid[i-1, j+1]+\\\n",
        "                         self.b[i]*self.grid[i, j+1] +\\\n",
        "                         self.c[i]*self.grid[i+1, j+1]"
      ],
      "execution_count": 7,
      "outputs": []
    },
    {
      "cell_type": "code",
      "metadata": {
        "id": "6Yb7qxAFwyaj"
      },
      "source": [
        "# Define the Finite Difference applying the implicit method:\n",
        "# This method uses a system of linear equations to derive the option price: \n",
        "\n",
        "# define the FDImplicit_EU class which inherits from the FDExplicit_EU class: \n",
        "\n",
        "class FDImplicit_EU(FDExplicit_EU):\n",
        "\n",
        "  def _setup_coefficients_(self):\n",
        "    self.a = 0.5*(self.r*self.dt*self.i_values - (self.sigma**2)*self.dt*(self.i_values**2))\n",
        "\n",
        "    self.b = 1 + (self.sigma**2)*self.dt*(self.i_values**2) + self.r*self.dt\n",
        "\n",
        "    self.c = -0.5*(self.r*self.dt*self.i_values + (self.sigma**2)*self.dt*(self.i_values**2))\n",
        "\n",
        "    self.coeffs = np.diag(self.a[2:self.M], -1) + np.diag(self.b[1:self.M]) + np.diag(self.c[1:self.M - 1], 1)\n",
        "\n",
        "  def _traverse_grid_(self): \n",
        "    # solve by using linear systems of equations: \n",
        "    P, L, U = linalg.lu(self.coeffs)\n",
        "    aux = np.zeros(self.M - 1)\n",
        "\n",
        "    for j in reversed(range(self.N)):\n",
        "      aux[0] = np.dot(-self.a[1], self.grid[0,j])\n",
        "\n",
        "      x1 = linalg.solve(L, self.grid[1:self.M, j+1] + aux)\n",
        "      x2 = linalg.solve(U, x1)\n",
        "      self.grid[1:self.M, j] = x2\n"
      ],
      "execution_count": 21,
      "outputs": []
    },
    {
      "cell_type": "code",
      "metadata": {
        "id": "flpxEhnW0Cl7"
      },
      "source": [
        "# Define Crank-Nicolson method: \n",
        "\n",
        "class FDCrank_Nicolson_EU(FDExplicit_EU):\n",
        "\n",
        "  def _setup_coefficients_(self):\n",
        "    self.a = 0.25*self.dt*((self.sigma**2)*(self.i_values**2) - self.r*self.i_values)\n",
        "\n",
        "    self.b = -0.5*self.dt*((self.sigma**2)*(self.i_values**2) + self.r)\n",
        "\n",
        "    self.c = 0.25*self.dt*((self.sigma**2)*(self.i_values**2) + self.r*self.i_values)\n",
        "\n",
        "    self.M1 = -np.diag(self.a[2:self.M], -1) + np.diag(1 - self.b[1:self.M]) - np.diag(self.c[1:self.M-1], 1)\n",
        "\n",
        "    self.M2 = np.diag(self.a[2:self.M], -1) + np.diag(1 + self.b[1:self.M]) + np.diag(self.c[1:self.M - 1], 1)\n",
        "\n",
        "\n",
        "  def _traverse_grid_(self):\n",
        "    P, L, U = linalg.lu(self.M1)\n",
        "\n",
        "    for j in reversed(range(self.N)):\n",
        "      x1 = linalg.solve(L, np.dot(self.M2, self.grid[1:self.M, j+1]))\n",
        "\n",
        "      x2 = linalg.solve(U, x1)\n",
        "\n",
        "      self.grid[1:self.M, j] = x2\n",
        "\n",
        "\n",
        "# Crank Nicolson is the most prefered method for 2 reasons: \n",
        "# 1) It avoids the instability issue\n",
        "# 2) It converges faster than explicit and implicit methods"
      ],
      "execution_count": 30,
      "outputs": []
    },
    {
      "cell_type": "code",
      "metadata": {
        "id": "EoGM1yLs_-vV"
      },
      "source": [
        "# Define class to calculate the American style option using the Finite Difference approach with Crank Nicolson method: \n",
        "\n",
        "class FD_Crank_Nicolson_Am(FDCrank_Nicolson_EU):\n",
        "  pass\n",
        "\n",
        "# To be done later!"
      ],
      "execution_count": 34,
      "outputs": []
    },
    {
      "cell_type": "markdown",
      "metadata": {
        "id": "V1qckoDExAxY"
      },
      "source": [
        "## Testing the code:"
      ]
    },
    {
      "cell_type": "markdown",
      "metadata": {
        "id": "0P5w4QY7yHGg"
      },
      "source": [
        "### Finite Difference option pricing with Explicit method: "
      ]
    },
    {
      "cell_type": "code",
      "metadata": {
        "colab": {
          "base_uri": "https://localhost:8080/"
        },
        "id": "FrSF-JkexCl5",
        "outputId": "1fd5bd58-9630-4b58-ebe0-2a6c94ecef29"
      },
      "source": [
        "# Testing the Explicit Finite Difference option pricing: \n",
        "\n",
        "option_explicit_stable = FDExplicit_EU(50, 50, 0.1, 5./12., 0.4, 100, 100, 1000, False)\n",
        "print(\"The option's value applying the Finite Difference pricing with the explicit method is: \" + str(option_explicit_stable.price()))\n"
      ],
      "execution_count": 14,
      "outputs": [
        {
          "output_type": "stream",
          "text": [
            "The option's value applying the Finite Difference pricing with the explicit method is: 4.072882278148043\n"
          ],
          "name": "stdout"
        }
      ]
    },
    {
      "cell_type": "code",
      "metadata": {
        "colab": {
          "base_uri": "https://localhost:8080/"
        },
        "id": "omkL-rz4xYaq",
        "outputId": "a16e58e0-5670-4404-9472-0d25b7415c1c"
      },
      "source": [
        "# However, the explicit method is not always stable and therefore, it does not always converge to a reasonable solution:\n",
        "option_explicit_instable = FDExplicit_EU(50, 50, 0.1, 5./12., 0.4, 100, 100, 100, False)\n",
        "print(\"The option's value applying the Finite Difference pricing with the explicit method is: \" + str(option_explicit_instable.price()))"
      ],
      "execution_count": 15,
      "outputs": [
        {
          "output_type": "stream",
          "text": [
            "The option's value applying the Finite Difference pricing with the explicit method is: -1.6291077072251005e+53\n"
          ],
          "name": "stdout"
        }
      ]
    },
    {
      "cell_type": "code",
      "metadata": {
        "id": "wSSDoTY7yv-X"
      },
      "source": [
        ""
      ],
      "execution_count": null,
      "outputs": []
    },
    {
      "cell_type": "markdown",
      "metadata": {
        "id": "Dqx6Qv9T4xR3"
      },
      "source": [
        "### Finite Difference option pricing with Implicit method:"
      ]
    },
    {
      "cell_type": "code",
      "metadata": {
        "colab": {
          "base_uri": "https://localhost:8080/"
        },
        "id": "vh65pfbZ410u",
        "outputId": "23c5e173-f62c-4509-dcec-4bb9dfe53d39"
      },
      "source": [
        "# Explicit method was not able to converge to a reasonable solution for the defined option:\n",
        "option_1 = FDImplicit_EU(50, 50, 0.1, 5./12., 0.4, 100, 100, 100, False)\n",
        "print(\"The option's value applying the implicit method is: \" + str(option_1.price()))"
      ],
      "execution_count": 22,
      "outputs": [
        {
          "output_type": "stream",
          "text": [
            "The option's value applying the implicit method is: 4.065801939431454\n"
          ],
          "name": "stdout"
        }
      ]
    },
    {
      "cell_type": "code",
      "metadata": {
        "colab": {
          "base_uri": "https://localhost:8080/"
        },
        "id": "tSBZG8Jc5Lqu",
        "outputId": "684e991d-0b0a-4fdb-f5a2-f4230cb9323d"
      },
      "source": [
        "option_2 = FDImplicit_EU(50, 50, 0.1, 5./12., 0.4, 100, 100, 1000, False)\n",
        "print(\"The option's value applying the implicit method is: \" + str(option_2.price()))"
      ],
      "execution_count": 24,
      "outputs": [
        {
          "output_type": "stream",
          "text": [
            "The option's value applying the implicit method is: 4.071594188049893\n"
          ],
          "name": "stdout"
        }
      ]
    },
    {
      "cell_type": "code",
      "metadata": {
        "id": "VyyKkptR5hTE"
      },
      "source": [
        ""
      ],
      "execution_count": null,
      "outputs": []
    },
    {
      "cell_type": "markdown",
      "metadata": {
        "id": "GyDcxegQ_DSw"
      },
      "source": [
        "### Finite Difference option pricing with Crank-Nicolson method:"
      ]
    },
    {
      "cell_type": "code",
      "metadata": {
        "colab": {
          "base_uri": "https://localhost:8080/"
        },
        "id": "dUgAJlz8_F0E",
        "outputId": "967e7b0a-2daf-4892-ae17-2adcc8b0439d"
      },
      "source": [
        "option_CN_1 = FDCrank_Nicolson_EU(50, 50, 0.1, 5./12., 0.4, 100, 100, 100, False)\n",
        "print(\"The option's value applying the Crank Nicolson method is: \" + str(option_CN_1.price()))"
      ],
      "execution_count": 31,
      "outputs": [
        {
          "output_type": "stream",
          "text": [
            "The option's value applying the Crank Nicolson method is: 4.072254507998114\n"
          ],
          "name": "stdout"
        }
      ]
    },
    {
      "cell_type": "code",
      "metadata": {
        "colab": {
          "base_uri": "https://localhost:8080/"
        },
        "id": "XpfNLYOg_Ptz",
        "outputId": "8a4dd9c1-281a-4d77-e711-5ce0027bb0f4"
      },
      "source": [
        "option_CN_2 = FDCrank_Nicolson_EU(50, 50, 0.1, 5./12., 0.4, 100, 100, 1000, False)\n",
        "print(\"The option's value applying the Crank Nicolson method is: \" + str(option_CN_2.price()))"
      ],
      "execution_count": 32,
      "outputs": [
        {
          "output_type": "stream",
          "text": [
            "The option's value applying the Crank Nicolson method is: 4.072238354486825\n"
          ],
          "name": "stdout"
        }
      ]
    },
    {
      "cell_type": "code",
      "metadata": {
        "id": "LfaSCYWO_ztC"
      },
      "source": [
        ""
      ],
      "execution_count": null,
      "outputs": []
    }
  ]
}